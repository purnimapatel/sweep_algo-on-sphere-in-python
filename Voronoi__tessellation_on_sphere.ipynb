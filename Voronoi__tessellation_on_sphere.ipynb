{
  "nbformat": 4,
  "nbformat_minor": 0,
  "metadata": {
    "colab": {
      "name": "Voronoi _tessellation on sphere",
      "provenance": [],
      "authorship_tag": "ABX9TyMO6k9Jr1KgvbM0XJfMPnrZ",
      "include_colab_link": true
    },
    "kernelspec": {
      "name": "python3",
      "display_name": "Python 3"
    }
  },
  "cells": [
    {
      "cell_type": "markdown",
      "metadata": {
        "id": "view-in-github",
        "colab_type": "text"
      },
      "source": [
        "<a href=\"https://colab.research.google.com/github/purnimapatel/sweep_algo-on-sphere-in-python/blob/master/Voronoi__tessellation_on_sphere.ipynb\" target=\"_parent\"><img src=\"https://colab.research.google.com/assets/colab-badge.svg\" alt=\"Open In Colab\"/></a>"
      ]
    },
    {
      "cell_type": "code",
      "metadata": {
        "id": "KTF7VsMP62fo",
        "outputId": "a6c7368d-c2b9-4826-c451-9e901e886168",
        "colab": {
          "base_uri": "https://localhost:8080/",
          "height": 357
        }
      },
      "source": [
        "#generating random points on a sphere wirh r=1,centre=0\n",
        "import numpy as np\n",
        "import math as m\n",
        "def sample_sphere(npoints,ndim=3):\n",
        "  vec=np.random.randn(ndim,npoints)\n",
        "  vec/=np.linalg.norm(vec,axis=0)\n",
        "  return(vec)\n",
        "pts=sample_sphere(20).transpose() \n",
        "print(pts)"
      ],
      "execution_count": 5,
      "outputs": [
        {
          "output_type": "stream",
          "text": [
            "[[ 0.68337217 -0.47666354 -0.55298676]\n",
            " [-0.07638899  0.35333245 -0.9323738 ]\n",
            " [-0.47821292  0.87809536 -0.01615369]\n",
            " [ 0.48693098 -0.20631929  0.84872291]\n",
            " [-0.19520184 -0.82550224 -0.52956803]\n",
            " [ 0.83666117 -0.4488552  -0.31389026]\n",
            " [-0.86977593 -0.40919249  0.27577406]\n",
            " [ 0.83062405 -0.1736737  -0.52905684]\n",
            " [-0.98078305 -0.16363519  0.10624563]\n",
            " [ 0.04342446 -0.94823117  0.31459809]\n",
            " [-0.53659293  0.69900039  0.47272243]\n",
            " [ 0.90079511  0.33352233 -0.27808457]\n",
            " [ 0.75914052  0.45202131 -0.46838275]\n",
            " [ 0.95998063 -0.14886527 -0.23722632]\n",
            " [ 0.45718829 -0.88936166  0.00383542]\n",
            " [-0.06280483 -0.99452687  0.08349761]\n",
            " [-0.6992842   0.48106945 -0.52874739]\n",
            " [-0.02851699  0.74137414  0.67048577]\n",
            " [ 0.26334772  0.48264214  0.8352871 ]\n",
            " [ 0.0559372  -0.95968649 -0.2754503 ]]\n"
          ],
          "name": "stdout"
        }
      ]
    },
    {
      "cell_type": "code",
      "metadata": {
        "id": "KahQNbLWAkJx",
        "outputId": "e762de37-1e3d-49ab-fb20-78617440074f",
        "colab": {
          "base_uri": "https://localhost:8080/",
          "height": 357
        }
      },
      "source": [
        "#convertion of cartesian co-ordinate to spherical co-ordinate\n",
        "def cart2sph(x,y,z):\n",
        "  x2y2=x**2+y**2\n",
        "  r=m.sqrt(x2y2+z**2)\n",
        "  elev=m.atan2(z,m.sqrt(x2y2))\n",
        "  az=m.atan2(y,x)\n",
        "  return r,elev,az\n",
        "def cart2spA(pts):\n",
        "  return np.array([cart2sph(x,y,z) for x,y,z in pts])\n",
        "print(cart2spA(pts))    "
      ],
      "execution_count": 6,
      "outputs": [
        {
          "output_type": "stream",
          "text": [
            "[[ 1.         -0.58594472 -0.60905741]\n",
            " [ 1.         -1.20092481  1.78371517]\n",
            " [ 1.         -0.01615439  2.06948614]\n",
            " [ 1.          1.01356569 -0.40078057]\n",
            " [ 1.         -0.55809125 -1.80299553]\n",
            " [ 1.         -0.31928762 -0.49240693]\n",
            " [ 1.          0.27939489 -2.70185722]\n",
            " [ 1.         -0.55748873 -0.20611876]\n",
            " [ 1.          0.10644654 -2.976274  ]\n",
            " [ 1.          0.32003322 -1.52503307]\n",
            " [ 1.          0.49237764  2.22550282]\n",
            " [ 1.         -0.28179945  0.35460266]\n",
            " [ 1.         -0.48745944  0.53705853]\n",
            " [ 1.         -0.23950967 -0.15384575]\n",
            " [ 1.          0.00383543 -1.09596139]\n",
            " [ 1.          0.08359493 -1.63386304]\n",
            " [ 1.         -0.5571241   2.53900283]\n",
            " [ 1.          0.73486334  1.60924242]\n",
            " [ 1.          0.98865476  1.0713085 ]\n",
            " [ 1.         -0.27905809 -1.51257525]]\n"
          ],
          "name": "stdout"
        }
      ]
    },
    {
      "cell_type": "code",
      "metadata": {
        "id": "iqB3WNlmC_yx"
      },
      "source": [
        "#Visualization of the points.\n",
        "from matplotlib import pyplot as plt\n",
        "from"
      ],
      "execution_count": null,
      "outputs": []
    }
  ]
}